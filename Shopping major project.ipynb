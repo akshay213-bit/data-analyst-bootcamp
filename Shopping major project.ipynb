{
 "cells": [
  {
   "cell_type": "code",
   "execution_count": null,
   "id": "3444294b-ee66-4b54-9c60-0d28341c5eb9",
   "metadata": {},
   "outputs": [],
   "source": [
    "#shopping major projects"
   ]
  },
  {
   "cell_type": "code",
   "execution_count": 6,
   "id": "07adac80-d01d-4935-b19e-23c9ad161ba2",
   "metadata": {},
   "outputs": [],
   "source": [
    "import sqlite3\n",
    "\n",
    "conn = sqlite3.connect(\"billing.db\")\n",
    "cur = conn.cursor()\n",
    "\n",
    "# Product Table\n",
    "cur.execute('''\n",
    "CREATE TABLE IF NOT EXISTS products (\n",
    "    id INTEGER PRIMARY KEY AUTOINCREMENT,\n",
    "    name TEXT,\n",
    "    price REAL\n",
    ")\n",
    "''')\n",
    "\n",
    "# Cart Table\n",
    "cur.execute('''\n",
    "CREATE TABLE IF NOT EXISTS cart (\n",
    "    id INTEGER PRIMARY KEY AUTOINCREMENT,\n",
    "    product_id INTEGER,\n",
    "    quantity INTEGER\n",
    ")\n",
    "''')\n",
    "\n",
    "conn.commit()"
   ]
  },
  {
   "cell_type": "code",
   "execution_count": 7,
   "id": "1ce3aa94-f457-4ceb-88c4-634ae8e2f4f6",
   "metadata": {},
   "outputs": [
    {
     "name": "stdout",
     "output_type": "stream",
     "text": [
      "Product added successfully.\n",
      "Product added successfully.\n",
      "Product added successfully.\n",
      "Product added successfully.\n"
     ]
    }
   ],
   "source": [
    "def add_product(name, price):\n",
    "    cur.execute(\"INSERT INTO products (name, price) VALUES (?, ?)\", (name, price))\n",
    "    conn.commit()\n",
    "    print(\"Product added successfully.\")\n",
    "\n",
    "add_product(\"iPhone 15 Pro\", \"150000\")\n",
    "add_product(\"Samsung S23\", \"25000\")\n",
    "add_product(\"Dell XPS 13\", \"100000\")\n",
    "add_product(\"Sony DSLR\", \"50000\")"
   ]
  },
  {
   "cell_type": "code",
   "execution_count": 8,
   "id": "a66de86f-466e-466e-98f7-49601248f6e0",
   "metadata": {},
   "outputs": [],
   "source": [
    "def show_products():\n",
    "    cur.execute(\"SELECT * FROM products\")\n",
    "    products = cur.fetchall()\n",
    "    print(\"\\n Available Products:\")\n",
    "    for p in products:\n",
    "        print(f\"ID: {p[0]} | Name: {p[1]} | Price: ₹{p[2]}\")"
   ]
  },
  {
   "cell_type": "code",
   "execution_count": 9,
   "id": "ede87988-554b-4c21-8950-7c010a5c7324",
   "metadata": {},
   "outputs": [],
   "source": [
    "def purchase_product(product_id, qty):\n",
    "    cur.execute(\"INSERT INTO cart (product_id, quantity) VALUES (?, ?)\", (product_id, qty))\n",
    "    conn.commit()\n",
    "    print(\" Added to cart!\")"
   ]
  },
  {
   "cell_type": "code",
   "execution_count": 10,
   "id": "c5055f25-402d-4e87-b54c-b71673b23021",
   "metadata": {},
   "outputs": [],
   "source": [
    "def show_bill():\n",
    "    cur.execute('''\n",
    "    SELECT products.name, products.price, cart.quantity, \n",
    "           (products.price * cart.quantity) as total \n",
    "    FROM cart \n",
    "    JOIN products ON products.id = cart.product_id\n",
    "    ''')\n",
    "    items = cur.fetchall()\n",
    "    grand_total = 0\n",
    "\n",
    "    print(\"\\n Final Bill:\")\n",
    "    for item in items:\n",
    "        name, price, qty, total = item\n",
    "        print(f\"{name} | ₹{price} x {qty} = ₹{total}\")\n",
    "        grand_total += total\n",
    "\n",
    "    print(f\"Grand Total: ₹{grand_total}\")"
   ]
  },
  {
   "cell_type": "code",
   "execution_count": null,
   "id": "b459465c-0025-46a5-b2e9-be17c8ec0bde",
   "metadata": {},
   "outputs": [],
   "source": [
    "show_products()"
   ]
  }
 ],
 "metadata": {
  "kernelspec": {
   "display_name": "Python [conda env:base] *",
   "language": "python",
   "name": "conda-base-py"
  },
  "language_info": {
   "codemirror_mode": {
    "name": "ipython",
    "version": 3
   },
   "file_extension": ".py",
   "mimetype": "text/x-python",
   "name": "python",
   "nbconvert_exporter": "python",
   "pygments_lexer": "ipython3",
   "version": "3.13.5"
  }
 },
 "nbformat": 4,
 "nbformat_minor": 5
}
