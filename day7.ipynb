{
 "cells": [
  {
   "cell_type": "code",
   "execution_count": 3,
   "id": "2561714d-ab58-48d9-851e-16ba2229a041",
   "metadata": {},
   "outputs": [
    {
     "name": "stdout",
     "output_type": "stream",
     "text": [
      "database created\n"
     ]
    }
   ],
   "source": [
    "import sqlite3\n",
    "\n",
    "conn = sqlite3.connect('students.db')\n",
    "print(\"database created\")"
   ]
  },
  {
   "cell_type": "code",
   "execution_count": 4,
   "id": "43f91030-d841-45ae-8758-be43dc3fce52",
   "metadata": {},
   "outputs": [
    {
     "name": "stdout",
     "output_type": "stream",
     "text": [
      "cursor created\n"
     ]
    }
   ],
   "source": [
    "cursor = conn.cursor()\n",
    "print(\"cursor created\")"
   ]
  },
  {
   "cell_type": "code",
   "execution_count": 5,
   "id": "0815a38e-de22-4348-a497-6bcf8e4559ab",
   "metadata": {},
   "outputs": [
    {
     "name": "stdout",
     "output_type": "stream",
     "text": [
      "Table created successfully.\n"
     ]
    }
   ],
   "source": [
    "cursor.execute('''\n",
    "CREATE TABLE IF NOT EXISTS students (\n",
    "    id INTEGER PRIMARY KEY AUTOINCREMENT,\n",
    "    name TEXT NOT NULL,\n",
    "    age INTEGER,\n",
    "    grade TEXT\n",
    ")\n",
    "''')\n",
    "conn.commit()\n",
    "print(\"Table created successfully.\")"
   ]
  },
  {
   "cell_type": "code",
   "execution_count": 6,
   "id": "f1e545cb-614c-40bf-92b8-92823274c970",
   "metadata": {},
   "outputs": [
    {
     "name": "stdout",
     "output_type": "stream",
     "text": [
      "Student inserted successfully.\n",
      "Student inserted successfully.\n"
     ]
    }
   ],
   "source": [
    "def insert_student(name, age, grade):\n",
    "    cursor.execute(\"INSERT INTO students (name, age, grade) VALUES (?, ?, ?)\", (name, age, grade))\n",
    "    conn.commit()\n",
    "    print(\"Student inserted successfully.\")\n",
    "\n",
    "\n",
    "insert_student('Akshay', 19, 'A')\n",
    "insert_student('Ankit', 21, 'B')\n"
   ]
  },
  {
   "cell_type": "code",
   "execution_count": 8,
   "id": "e1667d2c-8f46-4b42-a2b8-059b60167b49",
   "metadata": {},
   "outputs": [
    {
     "name": "stdout",
     "output_type": "stream",
     "text": [
      "(1, 'Riya', 20, 'A')\n",
      "(2, 'Divyank', 22, 'B')\n",
      "(3, 'Akshay', 19, 'A')\n",
      "(4, 'Ankit', 21, 'B')\n"
     ]
    }
   ],
   "source": [
    "def fetch_students():\n",
    "    cursor.execute(\"SELECT * FROM students\")\n",
    "    rows = cursor.fetchall()\n",
    "    for row in rows:\n",
    "        print(row)\n",
    "\n",
    "\n",
    "fetch_students()"
   ]
  },
  {
   "cell_type": "code",
   "execution_count": 9,
   "id": "795b451f-134a-4d46-84bd-794afbf4f1a2",
   "metadata": {},
   "outputs": [
    {
     "name": "stdout",
     "output_type": "stream",
     "text": [
      "Student updated successfully.\n"
     ]
    }
   ],
   "source": [
    "def update_student(student_id, new_name, new_age, new_grade):\n",
    "    cursor.execute(\"UPDATE students SET name=?, age=?, grade=? WHERE id=?\", (new_name, new_age, new_grade, student_id))\n",
    "    conn.commit()\n",
    "    print(\"Student updated successfully.\")\n",
    "update_student(1, 'Akshay badoni', 19, 'A+')\n"
   ]
  },
  {
   "cell_type": "code",
   "execution_count": 10,
   "id": "9a0afce8-4b4e-4940-8f93-973ab7a0944c",
   "metadata": {},
   "outputs": [
    {
     "name": "stdout",
     "output_type": "stream",
     "text": [
      "Student deleted successfully.\n"
     ]
    }
   ],
   "source": [
    "def delete_student(student_id):\n",
    "    cursor.execute(\"DELETE FROM students WHERE id=?\", (student_id,))\n",
    "    conn.commit()\n",
    "    print(\"Student deleted successfully.\")\n",
    "\n",
    "\n",
    "delete_student(2)\n"
   ]
  },
  {
   "cell_type": "code",
   "execution_count": 11,
   "id": "7f82ee7e-3fd2-4e2d-bc86-fe0ea1785e14",
   "metadata": {},
   "outputs": [
    {
     "name": "stdout",
     "output_type": "stream",
     "text": [
      "Database connection closed.\n"
     ]
    }
   ],
   "source": [
    "conn.close()\n",
    "print(\"Database connection closed.\")"
   ]
  },
  {
   "cell_type": "code",
   "execution_count": null,
   "id": "598c50dd-0fa1-4b45-a8fe-542e52911d63",
   "metadata": {},
   "outputs": [],
   "source": []
  }
 ],
 "metadata": {
  "kernelspec": {
   "display_name": "Python [conda env:base] *",
   "language": "python",
   "name": "conda-base-py"
  },
  "language_info": {
   "codemirror_mode": {
    "name": "ipython",
    "version": 3
   },
   "file_extension": ".py",
   "mimetype": "text/x-python",
   "name": "python",
   "nbconvert_exporter": "python",
   "pygments_lexer": "ipython3",
   "version": "3.13.5"
  }
 },
 "nbformat": 4,
 "nbformat_minor": 5
}
