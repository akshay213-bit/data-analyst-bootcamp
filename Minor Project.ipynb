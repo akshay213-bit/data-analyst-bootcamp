{
 "cells": [
  {
   "cell_type": "code",
   "execution_count": 1,
   "id": "11789387-2e6f-4c35-9b61-23aa26d20bb6",
   "metadata": {},
   "outputs": [
    {
     "name": "stdin",
     "output_type": "stream",
     "text": [
      "enter work (deposit,withdrwal): deposit\n",
      "enter amount to deposit: 100\n"
     ]
    },
    {
     "name": "stdout",
     "output_type": "stream",
     "text": [
      "total balance: 10100\n"
     ]
    }
   ],
   "source": [
    "#atm simulator\n",
    "def deposit_atm(balance,amount_deposit):\n",
    "    balance+=amount_deposit\n",
    "    print(\"total balance:\",balance)\n",
    "\n",
    "def withdrawl_atm(balance,amount_withdrwal):\n",
    "    balance-=amount_withdrwal\n",
    "    print(\"total balance:\",balance)\n",
    "\n",
    "balance=10000\n",
    "select_work=str(input(\"enter work (deposit,withdrwal):\"))\n",
    "if select_work==\"deposit\":\n",
    "    amount_deposit=int(input(\"enter amount to deposit:\"))\n",
    "    deposit_atm(balance,amount_deposit)\n",
    "    \n",
    "\n",
    "elif select_work==\"withdrwal\":\n",
    "    amount_withdrwal=int(input(\"enter amount which withdrwal:\"))\n",
    "    withdrawl_atm(balance,amount_withdrwal)\n",
    "\n",
    "else:\n",
    "    print(\"enter valid function you want to perform\")"
   ]
  },
  {
   "cell_type": "code",
   "execution_count": null,
   "id": "a57f7c44-bad8-4b04-94b5-f29ec1874eb5",
   "metadata": {},
   "outputs": [],
   "source": []
  },
  {
   "cell_type": "code",
   "execution_count": 2,
   "id": "22560828-696e-46c4-b4b6-e3fc7d70ce2d",
   "metadata": {},
   "outputs": [
    {
     "name": "stdin",
     "output_type": "stream",
     "text": [
      "Enter first number:  2\n",
      "Enter second number:  4\n",
      "Enter operator (+, -, *, /):  +\n"
     ]
    },
    {
     "name": "stdout",
     "output_type": "stream",
     "text": [
      "Result: 6\n"
     ]
    }
   ],
   "source": [
    "#calculator\n",
    "a = int(input(\"Enter first number: \"))\n",
    "b = int(input(\"Enter second number: \"))\n",
    "op = input(\"Enter operator (+, -, *, /): \")\n",
    "\n",
    "if op == '+':\n",
    "    print(\"Result:\", a + b)\n",
    "elif op == '-':\n",
    "    print(\"Result:\", a - b)\n",
    "elif op == '*':\n",
    "    print(\"Result:\", a * b)\n",
    "elif op == '/':\n",
    "    if b != 0:\n",
    "        print(\"Result:\", a / b)\n",
    "    else:\n",
    "        print(\"Cannot divide by zero!\")\n",
    "else:\n",
    "    print(\"Invalid operator\")"
   ]
  },
  {
   "cell_type": "code",
   "execution_count": null,
   "id": "c4f23f84-4a8b-46c0-9b0b-670bd25cb7c5",
   "metadata": {},
   "outputs": [],
   "source": []
  }
 ],
 "metadata": {
  "kernelspec": {
   "display_name": "Python [conda env:base] *",
   "language": "python",
   "name": "conda-base-py"
  },
  "language_info": {
   "codemirror_mode": {
    "name": "ipython",
    "version": 3
   },
   "file_extension": ".py",
   "mimetype": "text/x-python",
   "name": "python",
   "nbconvert_exporter": "python",
   "pygments_lexer": "ipython3",
   "version": "3.13.5"
  }
 },
 "nbformat": 4,
 "nbformat_minor": 5
}
