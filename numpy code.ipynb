{
 "cells": [
  {
   "cell_type": "code",
   "execution_count": 2,
   "id": "eeda781f-5456-4edc-aeea-d99387a74484",
   "metadata": {},
   "outputs": [],
   "source": [
    "import numpy as np"
   ]
  },
  {
   "cell_type": "code",
   "execution_count": 3,
   "id": "6c55c421-70a7-478e-90fd-dccbb9e99517",
   "metadata": {},
   "outputs": [
    {
     "name": "stdout",
     "output_type": "stream",
     "text": [
      "[ 0  1  2  3  4  5  6  7  8  9 10]\n"
     ]
    }
   ],
   "source": [
    "#Create a NumPy array of integers from 0 to 10.\n",
    "arr1 = np.arange(11)\n",
    "print(arr1)"
   ]
  },
  {
   "cell_type": "code",
   "execution_count": 6,
   "id": "79e16735-1595-4ba2-bacb-df65e7b5ce6a",
   "metadata": {},
   "outputs": [
    {
     "name": "stdout",
     "output_type": "stream",
     "text": [
      "[0. 0. 0. 0. 1. 0. 0. 0. 0. 0.]\n"
     ]
    }
   ],
   "source": [
    "#create an array of 10 zeros and chamge the 5th value to 1\n",
    "arr2 = np.zeros(10)\n",
    "arr2[4] = 1\n",
    "print(arr2)"
   ]
  },
  {
   "cell_type": "code",
   "execution_count": 8,
   "id": "5b56f5a5-de87-477f-8f34-b082eb14378a",
   "metadata": {},
   "outputs": [
    {
     "name": "stdout",
     "output_type": "stream",
     "text": [
      "[1. 1. 1. 1. 1. 1. 1. 1. 1. 1.]\n"
     ]
    }
   ],
   "source": [
    "#Generate an array of 10 ones.\n",
    "arr2 = np.ones(10)\n",
    "print(arr2)"
   ]
  },
  {
   "cell_type": "code",
   "execution_count": 9,
   "id": "cbf6d253-9c6b-4005-ab37-a7a7822fbc6c",
   "metadata": {},
   "outputs": [
    {
     "name": "stdout",
     "output_type": "stream",
     "text": [
      "[0.         0.05263158 0.10526316 0.15789474 0.21052632 0.26315789\n",
      " 0.31578947 0.36842105 0.42105263 0.47368421 0.52631579 0.57894737\n",
      " 0.63157895 0.68421053 0.73684211 0.78947368 0.84210526 0.89473684\n",
      " 0.94736842 1.        ]\n"
     ]
    }
   ],
   "source": [
    "#Create a 1D array of 20 equally spaced numbers between 0 and 1\n",
    "arr4 = np.linspace(0, 1, 20)\n",
    "print(arr4)"
   ]
  },
  {
   "cell_type": "code",
   "execution_count": 10,
   "id": "fcfa1a9e-a71d-461e-b67f-d0edcb515ef2",
   "metadata": {},
   "outputs": [
    {
     "name": "stdout",
     "output_type": "stream",
     "text": [
      "[[1. 0. 0.]\n",
      " [0. 1. 0.]\n",
      " [0. 0. 1.]]\n"
     ]
    }
   ],
   "source": [
    "#Create a 3x3 identity matrix.\n",
    "print(np.eye(3,3))"
   ]
  },
  {
   "cell_type": "code",
   "execution_count": 11,
   "id": "4b8d562b-85f3-43ae-af32-b92ca86278cd",
   "metadata": {},
   "outputs": [
    {
     "name": "stdout",
     "output_type": "stream",
     "text": [
      "[[ 0  1  2  3]\n",
      " [ 4  5  6  7]\n",
      " [ 8  9 10 11]\n",
      " [12 13 14 15]]\n"
     ]
    }
   ],
   "source": [
    "#Create a 4x4 matrix with values from 0 to 15.\n",
    "a = np.array([0,1,2,3,4,5,6,7,8,9,10,11,12,13,14,15])\n",
    "print(a.reshape(4,4))"
   ]
  },
  {
   "cell_type": "code",
   "execution_count": 12,
   "id": "fb1455a4-e584-47fc-91f9-de69173ca784",
   "metadata": {},
   "outputs": [
    {
     "name": "stdout",
     "output_type": "stream",
     "text": [
      "[[0.16045611 0.89168272 0.56162838 0.28026378 0.08859276]\n",
      " [0.29353962 0.44851455 0.6364109  0.94354681 0.18856938]\n",
      " [0.72272196 0.72788655 0.98343852 0.21363563 0.81616813]\n",
      " [0.18207878 0.26134171 0.97284408 0.4261822  0.39755677]\n",
      " [0.09598317 0.06809503 0.58833878 0.77286536 0.00901398]]\n"
     ]
    }
   ],
   "source": [
    "#Generate a 5x5 matrix with random values.\n",
    "arr7 = np.random.rand(5, 5)\n",
    "print(arr7)"
   ]
  },
  {
   "cell_type": "code",
   "execution_count": 14,
   "id": "8456fcb6-f3f7-4268-bdca-c635f4937c46",
   "metadata": {},
   "outputs": [
    {
     "name": "stdout",
     "output_type": "stream",
     "text": [
      "[5 4 3 2 1]\n"
     ]
    }
   ],
   "source": [
    "#Reverse the elements of an array.\n",
    "arr8 = np.array([1, 2, 3, 4, 5])\n",
    "arr8reversed = arr8[::-1]\n",
    "print(arr8reversed)"
   ]
  },
  {
   "cell_type": "code",
   "execution_count": 15,
   "id": "ea278bff-f989-4d21-b931-23e3f4893d4e",
   "metadata": {},
   "outputs": [
    {
     "name": "stdout",
     "output_type": "stream",
     "text": [
      "[1 2 3 4 5 6]\n"
     ]
    }
   ],
   "source": [
    "#Flatten a 2D array to 1D.\n",
    "arr9 = np.array([[1, 2, 3], [4, 5, 6]])\n",
    "arr9flattened = arr9.flatten()\n",
    "print(arr9flattened)"
   ]
  },
  {
   "cell_type": "code",
   "execution_count": 16,
   "id": "41ad8f48-37cd-47b4-95bd-9c386c6d9b02",
   "metadata": {},
   "outputs": [
    {
     "name": "stdout",
     "output_type": "stream",
     "text": [
      "Even numbers: [ 2  4  6  8 10]\n"
     ]
    }
   ],
   "source": [
    "#extract even number from an array \n",
    "arr = np.array([1, 2, 3, 4, 5, 6, 7, 8, 9, 10])\n",
    "evennumbers = arr[arr % 2 == 0]\n",
    "print(\"Even numbers:\", evennumbers)"
   ]
  },
  {
   "cell_type": "code",
   "execution_count": null,
   "id": "e28bf6f8-2050-4c99-b6f7-ff3d973efc63",
   "metadata": {},
   "outputs": [],
   "source": []
  }
 ],
 "metadata": {
  "kernelspec": {
   "display_name": "Python [conda env:base] *",
   "language": "python",
   "name": "conda-base-py"
  },
  "language_info": {
   "codemirror_mode": {
    "name": "ipython",
    "version": 3
   },
   "file_extension": ".py",
   "mimetype": "text/x-python",
   "name": "python",
   "nbconvert_exporter": "python",
   "pygments_lexer": "ipython3",
   "version": "3.13.5"
  }
 },
 "nbformat": 4,
 "nbformat_minor": 5
}
