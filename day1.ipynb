{
 "cells": [
  {
   "cell_type": "code",
   "execution_count": null,
   "id": "f66aa0e0-3b43-4faf-a158-92ba024234ec",
   "metadata": {},
   "outputs": [],
   "source": [
    "1. arithmetic operator "
   ]
  },
  {
   "cell_type": "code",
   "execution_count": 1,
   "id": "f018c225-5095-4109-8a36-c5c2860f1463",
   "metadata": {},
   "outputs": [
    {
     "name": "stdin",
     "output_type": "stream",
     "text": [
      "enter your first number 20\n",
      "enter your second number 10\n",
      "enter operator (+,-,*,/,%,//): *\n"
     ]
    },
    {
     "name": "stdout",
     "output_type": "stream",
     "text": [
      "200\n"
     ]
    }
   ],
   "source": [
    "+,-,*,/,%,**,//"
   ]
  },
  {
   "cell_type": "code",
   "execution_count": null,
   "id": "28ad986b-4a04-4034-a7d6-38a43804975c",
   "metadata": {},
   "outputs": [],
   "source": []
  },
  {
   "cell_type": "code",
   "execution_count": null,
   "id": "6f1e37a0-46c0-4ba0-86b1-d26e34e69b10",
   "metadata": {},
   "outputs": [],
   "source": [
    "2. assignment operator"
   ]
  },
  {
   "cell_type": "code",
   "execution_count": 2,
   "id": "e1d337b5-5bde-4c1f-9fff-7cc68a97b8da",
   "metadata": {},
   "outputs": [
    {
     "name": "stdout",
     "output_type": "stream",
     "text": [
      "14\n"
     ]
    }
   ],
   "source": [
    "x=7\n",
    "x+=7\n",
    "print(x)"
   ]
  },
  {
   "cell_type": "code",
   "execution_count": null,
   "id": "ae3c54fa-d3c9-48ab-9ace-042ea2ba0172",
   "metadata": {},
   "outputs": [],
   "source": []
  },
  {
   "cell_type": "code",
   "execution_count": null,
   "id": "15af1866-91d7-4d72-98e9-c1b7bce385e6",
   "metadata": {},
   "outputs": [],
   "source": [
    "3. comparision operator"
   ]
  },
  {
   "cell_type": "code",
   "execution_count": 3,
   "id": "6c108d0d-1d12-4290-bd01-634110a82c84",
   "metadata": {},
   "outputs": [
    {
     "name": "stdout",
     "output_type": "stream",
     "text": [
      "False\n",
      "False\n",
      "True\n",
      "True\n",
      "True\n",
      "False\n"
     ]
    }
   ],
   "source": [
    "x=8\n",
    "y=5\n",
    "print(x<y)\n",
    "print(x<=y)\n",
    "print(x>y)\n",
    "print(x>=y)\n",
    "print(x!=y)\n",
    "print(x==y)"
   ]
  },
  {
   "cell_type": "code",
   "execution_count": null,
   "id": "a1a2e22b-9cc6-4119-aa83-ba1d3eb7bb6d",
   "metadata": {},
   "outputs": [],
   "source": []
  },
  {
   "cell_type": "code",
   "execution_count": null,
   "id": "135cef70-9eb0-4275-bc90-8bbdd3c88641",
   "metadata": {},
   "outputs": [],
   "source": [
    "4. logical operator"
   ]
  },
  {
   "cell_type": "code",
   "execution_count": 4,
   "id": "f1a95b5c-1853-456c-8a3d-e0501507a059",
   "metadata": {},
   "outputs": [
    {
     "name": "stdout",
     "output_type": "stream",
     "text": [
      "True\n",
      "True\n",
      "False\n"
     ]
    }
   ],
   "source": [
    "x=7\n",
    "print(x>3 and x<9)\n",
    "print(x>3 or x<5)\n",
    "print(not(x>3 and x<9))"
   ]
  },
  {
   "cell_type": "code",
   "execution_count": null,
   "id": "f5e45b38-ae28-433a-9203-bb9b4803dcca",
   "metadata": {},
   "outputs": [],
   "source": []
  },
  {
   "cell_type": "code",
   "execution_count": null,
   "id": "15b9a654-1d2b-40d2-b413-d11bbbb9d2de",
   "metadata": {},
   "outputs": [],
   "source": [
    "5. membership operator"
   ]
  },
  {
   "cell_type": "code",
   "execution_count": 5,
   "id": "91397c6e-98f9-45c9-b996-10af3abe5a9d",
   "metadata": {},
   "outputs": [
    {
     "name": "stdout",
     "output_type": "stream",
     "text": [
      "watermelon in the list\n",
      "mango not in list\n"
     ]
    }
   ],
   "source": [
    "fruits=[\"apple\",\"banana\",\"watermelon\",\"orange\"]\n",
    "x=\"watermelon\"\n",
    "if x in fruits:\n",
    "    print(\"watermelon in the list\")\n",
    "y=\"mango\"\n",
    "if y not in fruits:\n",
    "    print(\"mango not in list\")"
   ]
  },
  {
   "cell_type": "code",
   "execution_count": null,
   "id": "a96a7ea6-e6fc-4f31-ab2f-fd1985e19cca",
   "metadata": {},
   "outputs": [],
   "source": []
  },
  {
   "cell_type": "code",
   "execution_count": null,
   "id": "2c341502-18db-4e70-a04f-e4abea4e6487",
   "metadata": {},
   "outputs": [],
   "source": [
    "6. identity operator"
   ]
  },
  {
   "cell_type": "code",
   "execution_count": 8,
   "id": "6d5242c3-a4f7-4834-ac61-f2f0472cd5d4",
   "metadata": {},
   "outputs": [
    {
     "name": "stdout",
     "output_type": "stream",
     "text": [
      "False\n",
      "True\n"
     ]
    }
   ],
   "source": [
    "x = [\"car\", \"bike\"]\n",
    "y = [\"car\", \"bike\"]\n",
    "print (x is y)\n",
    "print (x is not y)"
   ]
  },
  {
   "cell_type": "code",
   "execution_count": null,
   "id": "8bc3c91c-8cf0-44ee-9bc3-b5b7aaa28229",
   "metadata": {},
   "outputs": [],
   "source": []
  },
  {
   "cell_type": "code",
   "execution_count": null,
   "id": "2e97a9b7-e4a9-496b-ab04-76ebbf9619f0",
   "metadata": {},
   "outputs": [],
   "source": [
    "7. bitwise operator"
   ]
  },
  {
   "cell_type": "code",
   "execution_count": 9,
   "id": "8cd9db87-27e4-4091-8592-cc63512b37b3",
   "metadata": {},
   "outputs": [
    {
     "name": "stdout",
     "output_type": "stream",
     "text": [
      "2\n",
      "7\n",
      "5\n",
      "-4\n"
     ]
    }
   ],
   "source": [
    "print(6 & 3)\n",
    "print(5 | 2)\n",
    "print(6 ^ 3)\n",
    "print(~3)"
   ]
  },
  {
   "cell_type": "code",
   "execution_count": null,
   "id": "48c46eaf-d9ea-4262-847c-a90347eead08",
   "metadata": {},
   "outputs": [],
   "source": []
  }
 ],
 "metadata": {
  "kernelspec": {
   "display_name": "anaconda-2024.02-py310",
   "language": "python",
   "name": "conda-env-anaconda-2024.02-py310-py"
  },
  "language_info": {
   "codemirror_mode": {
    "name": "ipython",
    "version": 3
   },
   "file_extension": ".py",
   "mimetype": "text/x-python",
   "name": "python",
   "nbconvert_exporter": "python",
   "pygments_lexer": "ipython3",
   "version": "3.10.14"
  }
 },
 "nbformat": 4,
 "nbformat_minor": 5
}
