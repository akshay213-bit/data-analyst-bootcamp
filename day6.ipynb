{
 "cells": [
  {
   "cell_type": "code",
   "execution_count": 1,
   "id": "bfc33fa9-dd66-4f87-86f9-69be68258d41",
   "metadata": {},
   "outputs": [
    {
     "name": "stdout",
     "output_type": "stream",
     "text": [
      "Hello world\n"
     ]
    }
   ],
   "source": [
    "s=\"hello world\"\n",
    "print(s.capitalize())"
   ]
  },
  {
   "cell_type": "code",
   "execution_count": 2,
   "id": "aa13cd51-77ff-41a7-86d3-78a9a8503de5",
   "metadata": {},
   "outputs": [
    {
     "name": "stdout",
     "output_type": "stream",
     "text": [
      "HELLO\n"
     ]
    }
   ],
   "source": [
    "s=\"hello\"\n",
    "print(s.upper())"
   ]
  },
  {
   "cell_type": "code",
   "execution_count": 3,
   "id": "51898401-9712-4530-8568-1dd1dff0c529",
   "metadata": {},
   "outputs": [
    {
     "name": "stdout",
     "output_type": "stream",
     "text": [
      "hello\n"
     ]
    }
   ],
   "source": [
    "s=\"HeLLo\"\n",
    "print(s.lower())"
   ]
  },
  {
   "cell_type": "code",
   "execution_count": 4,
   "id": "dd3085cb-9e69-4d46-8ca9-5bb4ce254020",
   "metadata": {},
   "outputs": [
    {
     "name": "stdout",
     "output_type": "stream",
     "text": [
      "Hello World\n"
     ]
    }
   ],
   "source": [
    "s=\"hello world\"\n",
    "print(s.title())"
   ]
  },
  {
   "cell_type": "code",
   "execution_count": 5,
   "id": "b2a97d24-26f7-4542-8430-f52f61a67469",
   "metadata": {},
   "outputs": [
    {
     "name": "stdout",
     "output_type": "stream",
     "text": [
      "hEllO wOrlD\n"
     ]
    }
   ],
   "source": [
    "s=\"HeLLo WoRLd\"\n",
    "print(s.swapcase())"
   ]
  },
  {
   "cell_type": "code",
   "execution_count": 8,
   "id": "4fcb38cf-ffae-4ab5-8f44-e5ef4e6e548b",
   "metadata": {},
   "outputs": [
    {
     "name": "stdout",
     "output_type": "stream",
     "text": [
      "hello\n",
      "hello \n",
      " hello\n"
     ]
    }
   ],
   "source": [
    "s=\" hello \"\n",
    "print(s.strip())\n",
    "print(s.lstrip())\n",
    "print(s.rstrip())"
   ]
  },
  {
   "cell_type": "code",
   "execution_count": 9,
   "id": "3af5fc43-0e32-4fef-82dd-2037ace0821f",
   "metadata": {},
   "outputs": [
    {
     "name": "stdout",
     "output_type": "stream",
     "text": [
      "hello p\n"
     ]
    }
   ],
   "source": [
    "s=\"hello world\"\n",
    "print(s.replace(\"world\", \"p\"))"
   ]
  },
  {
   "cell_type": "code",
   "execution_count": 11,
   "id": "3a48678c-e3cd-4f38-9109-baea244102c9",
   "metadata": {},
   "outputs": [
    {
     "name": "stdout",
     "output_type": "stream",
     "text": [
      "['apple', 'banana', 'grape']\n"
     ]
    }
   ],
   "source": [
    "s=\"apple,banana,grape\"\n",
    "print(s.split(\",\"))"
   ]
  },
  {
   "cell_type": "code",
   "execution_count": 12,
   "id": "e608a960-9fbe-44f9-aeaf-51814fbb28f4",
   "metadata": {},
   "outputs": [
    {
     "name": "stdout",
     "output_type": "stream",
     "text": [
      "6\n"
     ]
    }
   ],
   "source": [
    "s=\"hello world\"\n",
    "print(s.find(\"world\"))"
   ]
  },
  {
   "cell_type": "code",
   "execution_count": 13,
   "id": "30867d18-50f9-40ae-8d8e-5e43724e1e77",
   "metadata": {},
   "outputs": [
    {
     "name": "stdout",
     "output_type": "stream",
     "text": [
      "4\n"
     ]
    }
   ],
   "source": [
    "s=\"hello\"\n",
    "print(s.index(\"o\"))"
   ]
  },
  {
   "cell_type": "code",
   "execution_count": 14,
   "id": "b13e5978-5b67-4506-ad80-a884026bce42",
   "metadata": {},
   "outputs": [
    {
     "name": "stdout",
     "output_type": "stream",
     "text": [
      "3\n"
     ]
    }
   ],
   "source": [
    "s=\"banana\"\n",
    "print(s.count(\"a\"))"
   ]
  },
  {
   "cell_type": "code",
   "execution_count": null,
   "id": "9b831f09-cb74-461a-a276-f8f70d08f2f0",
   "metadata": {},
   "outputs": [],
   "source": [
    "s=\"abcXYZ\"\n",
    "print(s.count(\"a\"))"
   ]
  },
  {
   "cell_type": "code",
   "execution_count": 33,
   "id": "6d12c6ba-55f0-4081-8472-31e8451e4abe",
   "metadata": {},
   "outputs": [
    {
     "name": "stdout",
     "output_type": "stream",
     "text": [
      "True\n"
     ]
    }
   ],
   "source": [
    "s=\"12345\"\n",
    "print(s.isdigit())"
   ]
  },
  {
   "cell_type": "code",
   "execution_count": 35,
   "id": "630d57d1-4dcd-43ed-8fe4-0020b3679bd5",
   "metadata": {},
   "outputs": [
    {
     "name": "stdout",
     "output_type": "stream",
     "text": [
      "True\n"
     ]
    }
   ],
   "source": [
    "s=\"abc123\"\n",
    "print(s.isalnum())"
   ]
  },
  {
   "cell_type": "code",
   "execution_count": 41,
   "id": "73063065-fabc-4130-be13-55164c25488c",
   "metadata": {},
   "outputs": [
    {
     "name": "stdout",
     "output_type": "stream",
     "text": [
      "My name is Akshay and I am 19 year old .\n"
     ]
    }
   ],
   "source": [
    "name=\"Akshay\"\n",
    "age=19\n",
    "print(\"My name is {} and I am {} year old. \".format(name,age))"
   ]
  },
  {
   "cell_type": "code",
   "execution_count": 32,
   "id": "fae7da58-1c20-49a0-bb69-87c02b8b6907",
   "metadata": {},
   "outputs": [
    {
     "name": "stdin",
     "output_type": "stream",
     "text": [
      "enter work (deposit,withdrwal): deposit\n",
      "enter amount to deposit: 100\n"
     ]
    },
    {
     "name": "stdout",
     "output_type": "stream",
     "text": [
      "total balance: 10100\n"
     ]
    }
   ],
   "source": [
    "def deposit_atm(balance,amount_deposit):\n",
    "    balance+=amount_deposit\n",
    "    print(\"total balance:\",balance)\n",
    "\n",
    "def withdrawl_atm(balance,amount_withdrwal):\n",
    "    balance-=amount_withdrwal\n",
    "    print(\"total balance:\",balance)\n",
    "\n",
    "balance=10000\n",
    "select_work=str(input(\"enter work (deposit,withdrwal):\"))\n",
    "if select_work==\"deposit\":\n",
    "    amount_deposit=int(input(\"enter amount to deposit:\"))\n",
    "    deposit_atm(balance,amount_deposit)\n",
    "    \n",
    "\n",
    "elif select_work==\"withdrwal\":\n",
    "    amount_withdrwal=int(input(\"enter amount which withdrwal:\"))\n",
    "    withdrawl_atm(balance,amount_withdrwal)\n",
    "\n",
    "else:\n",
    "    print(\"enter valid function you want to perform\")"
   ]
  },
  {
   "cell_type": "code",
   "execution_count": null,
   "id": "876fdc30-a1f7-43e5-98ed-2e1f7b9e787f",
   "metadata": {},
   "outputs": [],
   "source": []
  }
 ],
 "metadata": {
  "kernelspec": {
   "display_name": "Python [conda env:base] *",
   "language": "python",
   "name": "conda-base-py"
  },
  "language_info": {
   "codemirror_mode": {
    "name": "ipython",
    "version": 3
   },
   "file_extension": ".py",
   "mimetype": "text/x-python",
   "name": "python",
   "nbconvert_exporter": "python",
   "pygments_lexer": "ipython3",
   "version": "3.13.5"
  }
 },
 "nbformat": 4,
 "nbformat_minor": 5
}
