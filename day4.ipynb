{
 "cells": [
  {
   "cell_type": "code",
   "execution_count": 4,
   "id": "e50d9462-c28c-4299-8a73-e7a1fe86a48d",
   "metadata": {},
   "outputs": [
    {
     "name": "stdout",
     "output_type": "stream",
     "text": [
      "the sum of two number is : 17\n"
     ]
    }
   ],
   "source": [
    "def add(x,y):\n",
    "    x= x+y\n",
    "    return x\n",
    "    \n",
    "r=add(12,5)\n",
    "print(f\"the sum of two number is : {r}\")\n"
   ]
  },
  {
   "cell_type": "code",
   "execution_count": 13,
   "id": "320d7d40-b04e-4c59-9434-5fe285f495ff",
   "metadata": {},
   "outputs": [
    {
     "name": "stdin",
     "output_type": "stream",
     "text": [
      "enter a number:  50\n"
     ]
    },
    {
     "name": "stdout",
     "output_type": "stream",
     "text": [
      "the sum of number is : 1275\n"
     ]
    }
   ],
   "source": [
    "def sum(a):\n",
    "    sum=0\n",
    "    i=1\n",
    "    for i in range(i,x+1):\n",
    "        sum=sum+i\n",
    "        i+=1\n",
    "\n",
    "    print(f\"the sum of number is : {sum}\")\n",
    "\n",
    "x=int(input(\"enter a number: \"))\n",
    "r=sum(x)\n"
   ]
  },
  {
   "cell_type": "code",
   "execution_count": 14,
   "id": "bd67677b-66d9-4ebb-b556-5e1e1003082a",
   "metadata": {},
   "outputs": [
    {
     "name": "stdin",
     "output_type": "stream",
     "text": [
      "enter a number:  50\n"
     ]
    },
    {
     "name": "stdout",
     "output_type": "stream",
     "text": [
      "the sum of number is : 625\n"
     ]
    }
   ],
   "source": [
    "def sum(a):\n",
    "    sum=0\n",
    "    i=1\n",
    "    for i in range(i,x+1):\n",
    "        if i%2!=0:\n",
    "            sum=sum+i\n",
    "            i+=1\n",
    "\n",
    "    print(f\"the sum of number is : {sum}\")\n",
    "\n",
    "x=int(input(\"enter a number: \"))\n",
    "r=sum(x)\n"
   ]
  },
  {
   "cell_type": "code",
   "execution_count": 15,
   "id": "9e9ad92b-2a3b-45f9-b105-bd3f6da07b97",
   "metadata": {},
   "outputs": [
    {
     "name": "stdout",
     "output_type": "stream",
     "text": [
      "120\n"
     ]
    }
   ],
   "source": [
    "def factorial(n):\n",
    "    if n==1:\n",
    "        return 1\n",
    "    return n* factorial(n-1)\n",
    "\n",
    "print(factorial(5))"
   ]
  },
  {
   "cell_type": "code",
   "execution_count": 16,
   "id": "0f655403-f883-4ee2-a75e-76e5cd56a5da",
   "metadata": {},
   "outputs": [
    {
     "name": "stdin",
     "output_type": "stream",
     "text": [
      "enter numerator:  2\n",
      "enter denominator:  0\n"
     ]
    },
    {
     "name": "stdout",
     "output_type": "stream",
     "text": [
      "Error: Cannot divide by zero!\n",
      "program ended . Thank you!\n"
     ]
    }
   ],
   "source": [
    "try:\n",
    "    num1 = int(input(\"enter numerator: \"))\n",
    "    num2 = int(input(\"enter denominator: \"))\n",
    "    result = num1 / num2\n",
    "\n",
    "except ZeroDivisionError:\n",
    "    print(\"Error: Cannot divide by zero!\")\n",
    "\n",
    "except ValueError:\n",
    "    print(\"Error : please enter valid integers only!\")\n",
    "\n",
    "else:\n",
    "    print(\"result is: \", result)\n",
    "\n",
    "finally:\n",
    "    print(\"program ended . Thank you!\")"
   ]
  },
  {
   "cell_type": "code",
   "execution_count": 24,
   "id": "aea395ca-2749-4798-8601-9dedca192edc",
   "metadata": {},
   "outputs": [
    {
     "name": "stdin",
     "output_type": "stream",
     "text": [
      "enter a string:  akshay\n"
     ]
    },
    {
     "data": {
      "text/plain": [
       "'yahska'"
      ]
     },
     "execution_count": 24,
     "metadata": {},
     "output_type": "execute_result"
    }
   ],
   "source": [
    "def rev(a):\n",
    "    x= a[::-1]\n",
    "    return x\n",
    "\n",
    "x= input(\"enter a string: \")\n",
    "rev(x)\n",
    "    "
   ]
  },
  {
   "cell_type": "code",
   "execution_count": 3,
   "id": "bf9e7ee2-ace1-4ec1-b6c5-a1e4623cf666",
   "metadata": {},
   "outputs": [
    {
     "name": "stdin",
     "output_type": "stream",
     "text": [
      "enter a number:  2\n"
     ]
    },
    {
     "name": "stdout",
     "output_type": "stream",
     "text": [
      "the square of 2 is : 4\n"
     ]
    }
   ],
   "source": [
    "def square(a):\n",
    "    x=a**2\n",
    "    return x\n",
    "\n",
    "x=int(input(\"enter a number: \"))\n",
    "r=square(x)\n",
    "print(f\"the square of {x} is : {r}\")"
   ]
  },
  {
   "cell_type": "code",
   "execution_count": 10,
   "id": "8f9d13f6-826a-4b6d-9c2c-77817d017b83",
   "metadata": {},
   "outputs": [
    {
     "name": "stdin",
     "output_type": "stream",
     "text": [
      "enter a number:  4\n"
     ]
    },
    {
     "name": "stdout",
     "output_type": "stream",
     "text": [
      "this number is even number \n"
     ]
    }
   ],
   "source": [
    "def even(a):\n",
    "    if a%2==0:\n",
    "        print(\"this number is even number \")\n",
    "    else:\n",
    "        print(\"this number is odd number \")\n",
    "\n",
    "x=int(input(\"enter a number: \"))\n",
    "even(x)\n"
   ]
  },
  {
   "cell_type": "code",
   "execution_count": 18,
   "id": "8b311354-4577-469f-a256-225d25439545",
   "metadata": {},
   "outputs": [
    {
     "name": "stdin",
     "output_type": "stream",
     "text": [
      "enter a number:  4\n"
     ]
    },
    {
     "name": "stdout",
     "output_type": "stream",
     "text": [
      "the factorial of 4 is : 24\n"
     ]
    }
   ],
   "source": [
    "def factorial(n):\n",
    "    if n==1:\n",
    "        b=1\n",
    "        return b\n",
    "    c=n* factorial(n-1)\n",
    "    return c\n",
    "\n",
    "x=int(input(\"enter a number: \"))\n",
    "r= factorial(x)\n",
    "print(f\"the factorial of {x} is : {r}\")"
   ]
  },
  {
   "cell_type": "code",
   "execution_count": 1,
   "id": "2b49dfc4-357b-472b-a6a5-91bbe87d2071",
   "metadata": {},
   "outputs": [
    {
     "name": "stdin",
     "output_type": "stream",
     "text": [
      "enter a string:  akshay\n"
     ]
    },
    {
     "name": "stdout",
     "output_type": "stream",
     "text": [
      "the no. of vowel in this string is: 2\n"
     ]
    }
   ],
   "source": [
    "n=input(\"enter a string: \")\n",
    "count=0\n",
    "for i in n:\n",
    "    if  i.lower() in \"aeiou\":\n",
    "        count+=1\n",
    "\n",
    "print(f\"the no. of vowel in this string is: {count}\")"
   ]
  },
  {
   "cell_type": "code",
   "execution_count": 32,
   "id": "5c083ce8-a4a2-4aaa-95f1-94e2f9cf8e3a",
   "metadata": {},
   "outputs": [
    {
     "name": "stdin",
     "output_type": "stream",
     "text": [
      "enter a string:  abhishek\n"
     ]
    },
    {
     "name": "stdout",
     "output_type": "stream",
     "text": [
      "the no. of vowel in a string is: 3\n"
     ]
    }
   ],
   "source": [
    "def count(a):\n",
    "    count=0\n",
    "    for i in a:\n",
    "        if  i.lower() in \"aeiou\":\n",
    "            count+=1\n",
    "\n",
    "    return count\n",
    "\n",
    "x= input(\"enter a string: \")\n",
    "r= count(x)\n",
    "print(f\"the no. of vowel in a string is: {r}\") "
   ]
  },
  {
   "cell_type": "code",
   "execution_count": 35,
   "id": "208348fd-4660-421c-b959-b41b15fe57d8",
   "metadata": {},
   "outputs": [
    {
     "name": "stdin",
     "output_type": "stream",
     "text": [
      "enter number 5\n"
     ]
    },
    {
     "name": "stdout",
     "output_type": "stream",
     "text": [
      "0 1 1 2 3 "
     ]
    }
   ],
   "source": [
    "def fibonacci(n):\n",
    "    a, b = 0, 1\n",
    "    for i in range(n):\n",
    "        print(a, end= \" \")\n",
    "        a, b = b, a + b\n",
    "n=int(input(\"enter number\"))\n",
    "fibonacci(n)"
   ]
  },
  {
   "cell_type": "code",
   "execution_count": 40,
   "id": "f6dcffe5-191c-4485-bc94-a923388703f0",
   "metadata": {},
   "outputs": [
    {
     "name": "stdout",
     "output_type": "stream",
     "text": [
      "Is 'nitin' a palindrome? True\n",
      "Is 'akshay' a palindrome? False\n"
     ]
    }
   ],
   "source": [
    "def is_palindrome(s):\n",
    "    return s == s[::-1]\n",
    "\n",
    "print(\"Is 'nitin' a palindrome?\", is_palindrome(\"nitin\"))\n",
    "print(\"Is 'akshay' a palindrome?\", is_palindrome(\"akshay\"))"
   ]
  },
  {
   "cell_type": "code",
   "execution_count": 44,
   "id": "5887426b-c391-4cf2-b456-60668f998a1e",
   "metadata": {},
   "outputs": [
    {
     "name": "stdout",
     "output_type": "stream",
     "text": [
      "25\n"
     ]
    }
   ],
   "source": [
    "def sum_args(*args):\n",
    "    return sum(args)\n",
    "\n",
    "print(sum_args(1,3,5,7,9))"
   ]
  },
  {
   "cell_type": "code",
   "execution_count": 45,
   "id": "494ef8c1-9786-4ff8-9033-4c6ede221f26",
   "metadata": {},
   "outputs": [
    {
     "name": "stdout",
     "output_type": "stream",
     "text": [
      "5\n"
     ]
    }
   ],
   "source": [
    "def add(x, y=2):\n",
    "    return x + y\n",
    "\n",
    "print(add(3))"
   ]
  },
  {
   "cell_type": "code",
   "execution_count": 47,
   "id": "066d1d7d-6c4a-4547-b86f-1cfd5189eda2",
   "metadata": {},
   "outputs": [
    {
     "name": "stdin",
     "output_type": "stream",
     "text": [
      "Enter a number:  3\n"
     ]
    },
    {
     "name": "stdout",
     "output_type": "stream",
     "text": [
      "Odd number\n"
     ]
    }
   ],
   "source": [
    "def check_even_odd(number):\n",
    "    if number % 2 == 0:\n",
    "        print(\"Even number\")\n",
    "    else:\n",
    "        print(\"Odd number\")\n",
    "        \n",
    "num = int(input(\"Enter a number: \"))\n",
    "check_even_odd(num)\n"
   ]
  },
  {
   "cell_type": "code",
   "execution_count": 50,
   "id": "90f6ba04-5679-42de-bfb5-7621c2fcd5df",
   "metadata": {},
   "outputs": [
    {
     "name": "stdin",
     "output_type": "stream",
     "text": [
      "Enter first number:  23\n",
      "Enter second number:  32\n"
     ]
    },
    {
     "name": "stdout",
     "output_type": "stream",
     "text": [
      "Average is: 28.5\n"
     ]
    }
   ],
   "source": [
    "def find_average(num1, num2):\n",
    "    a = float(input(\"Enter first number: \"))\n",
    "    b = float(input(\"Enter second number: \"))\n",
    "    return (num1 + num2) / 2\n",
    "\n",
    "average = find_average(a, b)\n",
    "print(\"Average is:\", average)\n"
   ]
  },
  {
   "cell_type": "code",
   "execution_count": 52,
   "id": "7214bd2d-1891-4f7e-9dde-caf968c862bc",
   "metadata": {},
   "outputs": [
    {
     "name": "stdin",
     "output_type": "stream",
     "text": [
      "Enter a string:  abhishek\n"
     ]
    },
    {
     "name": "stdout",
     "output_type": "stream",
     "text": [
      "Number of vowels: 3\n"
     ]
    }
   ],
   "source": [
    "def count_vowels(a):\n",
    "    count = 0\n",
    "    for ch in a:\n",
    "        if ch in \"aeiouAEIOU\":\n",
    "            count += 1\n",
    "    return count\n",
    "\n",
    "n= input(\"Enter a string: \")\n",
    "result = count_vowels(n)\n",
    "print(\"Number of vowels:\", result)\n"
   ]
  },
  {
   "cell_type": "code",
   "execution_count": 53,
   "id": "045010b3-4dcc-4bbb-b161-78edd4d60b32",
   "metadata": {},
   "outputs": [
    {
     "name": "stdin",
     "output_type": "stream",
     "text": [
      "Enter a number:  5\n"
     ]
    },
    {
     "name": "stdout",
     "output_type": "stream",
     "text": [
      "Square is: 25\n"
     ]
    }
   ],
   "source": [
    "square = lambda x: x ** 2\n",
    "\n",
    "num = int(input(\"Enter a number: \"))\n",
    "print(\"Square is:\", square(num))\n"
   ]
  },
  {
   "cell_type": "code",
   "execution_count": 54,
   "id": "fe7862e1-1ccd-4ff8-ba2c-2149b783f780",
   "metadata": {},
   "outputs": [
    {
     "name": "stdin",
     "output_type": "stream",
     "text": [
      "Enter a number:  5\n"
     ]
    },
    {
     "name": "stdout",
     "output_type": "stream",
     "text": [
      "Factorial is: 120\n"
     ]
    }
   ],
   "source": [
    "def factorial(n):\n",
    "    if n == 0 or n == 1:\n",
    "        return 1\n",
    "    else:\n",
    "        return n * factorial(n - 1)\n",
    "\n",
    "num = int(input(\"Enter a number: \"))\n",
    "print(\"Factorial is:\", factorial(num))\n"
   ]
  },
  {
   "cell_type": "code",
   "execution_count": null,
   "id": "e2b53765-2cef-4396-b4c1-ba8438e7d00c",
   "metadata": {},
   "outputs": [],
   "source": []
  }
 ],
 "metadata": {
  "kernelspec": {
   "display_name": "Python [conda env:base] *",
   "language": "python",
   "name": "conda-base-py"
  },
  "language_info": {
   "codemirror_mode": {
    "name": "ipython",
    "version": 3
   },
   "file_extension": ".py",
   "mimetype": "text/x-python",
   "name": "python",
   "nbconvert_exporter": "python",
   "pygments_lexer": "ipython3",
   "version": "3.13.5"
  }
 },
 "nbformat": 4,
 "nbformat_minor": 5
}
