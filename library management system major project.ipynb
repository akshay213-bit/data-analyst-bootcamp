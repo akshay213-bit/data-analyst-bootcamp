{
 "cells": [
  {
   "cell_type": "code",
   "execution_count": null,
   "id": "7343e70f-8f5c-4e10-9718-6b96ec317428",
   "metadata": {},
   "outputs": [],
   "source": [
    "#library management system"
   ]
  },
  {
   "cell_type": "code",
   "execution_count": 1,
   "id": "edbbcad9-534e-49d7-a5d6-a49409828c2a",
   "metadata": {},
   "outputs": [],
   "source": [
    "import sqlite3\n",
    "\n",
    "conn = sqlite3.connect(\"library.db\")\n",
    "cur = conn.cursor()\n",
    "\n",
    "cur.execute('''\n",
    "CREATE TABLE book(\n",
    "    book_id INTEGER PRIMARY KEY AUTOINCREMENT,\n",
    "    title TEXT,\n",
    "    author TEXT,\n",
    "    available INTEGER DEFAULT 1\n",
    ")\n",
    "''')\n",
    "\n",
    "conn.commit()"
   ]
  },
  {
   "cell_type": "code",
   "execution_count": 2,
   "id": "1a5a0ddc-c128-4787-932d-96fcc5fa606c",
   "metadata": {},
   "outputs": [
    {
     "name": "stdout",
     "output_type": "stream",
     "text": [
      "book added successfully.\n",
      "book added successfully.\n",
      "book added successfully.\n",
      "book added successfully.\n"
     ]
    }
   ],
   "source": [
    "def add_book(title, author):\n",
    "    cur.execute(\"INSERT INTO book (title, author) VALUES (?, ?)\", (title, author))\n",
    "    conn.commit()\n",
    "    print(\"book added successfully.\")\n",
    "\n",
    "add_book(\"Rich Dad Poor Dad\", \"Robert Kiyosaki\")\n",
    "add_book(\"Think and Grow Rich\", \"Napoleon Hill\")\n",
    "add_book(\"Deep Work\", \"Cal Newport\")\n",
    "add_book(\"Do Epic Shit\", \"Ankur Warikoo\")"
   ]
  },
  {
   "cell_type": "code",
   "execution_count": 3,
   "id": "14513ecf-f89c-4a30-94d6-8aadf9cc532b",
   "metadata": {},
   "outputs": [],
   "source": [
    "def show_books():\n",
    "    cur.execute(\"SELECT book_id, title, author FROM book WHERE available = 1\")\n",
    "    books = cur.fetchall()\n",
    "\n",
    "    print(\"\\nBooks available:\")\n",
    "    if books:\n",
    "        for book in books:\n",
    "            print(f\"{book[0]}. {book[1]} by {book[2]}\")\n",
    "    else:\n",
    "        print(\"No books available at the moment.\")"
   ]
  },
  {
   "cell_type": "code",
   "execution_count": 4,
   "id": "1ce0dec2-bdd5-4da6-b1e7-4e67d04e4896",
   "metadata": {},
   "outputs": [],
   "source": [
    "def issue_book(book_id):\n",
    "    cur.execute(\"SELECT title, available FROM book WHERE book_id = ?\", (book_id,))\n",
    "    result = cur.fetchone()\n",
    "\n",
    "    if result:\n",
    "        title, isAvailable = result\n",
    "        if isAvailable:\n",
    "            cur.execute(\"UPDATE book SET available = 0 WHERE book_id = ?\", (book_id,))\n",
    "            conn.commit()\n",
    "            print(f\"Book issued: {title}\")\n",
    "        else:\n",
    "            print(\"This book is already issued.\")\n",
    "    else:\n",
    "        print(\"Book not found.\")"
   ]
  },
  {
   "cell_type": "code",
   "execution_count": 5,
   "id": "82b6cb19-d522-440e-9eb5-88205e21fc64",
   "metadata": {},
   "outputs": [],
   "source": [
    "def return_book(book_id):\n",
    "    cur.execute(\"SELECT title, available FROM book WHERE book_id = ?\", (book_id,))\n",
    "    result = cur.fetchone()\n",
    "\n",
    "    if result:\n",
    "        title, is_Available = result\n",
    "        if not is_Available:\n",
    "            cur.execute(\"UPDATE book SET available = 1 WHERE book_id = ?\", (book_id,))\n",
    "            conn.commit()\n",
    "            print(f\"Book returned: {title}\")\n",
    "        else:\n",
    "            print(\"This book was not issued.\")\n",
    "    else:\n",
    "        print(\"Book not found.\")"
   ]
  },
  {
   "cell_type": "code",
   "execution_count": 6,
   "id": "1d5abdf4-4062-4b4f-8f46-65a2e440805e",
   "metadata": {},
   "outputs": [
    {
     "name": "stdout",
     "output_type": "stream",
     "text": [
      "\n",
      "Books available:\n",
      "1. Rich Dad Poor Dad by Robert Kiyosaki\n",
      "2. Think and Grow Rich by Napoleon Hill\n",
      "3. Deep Work by Cal Newport\n",
      "4. Do Epic Shit by Ankur Warikoo\n"
     ]
    }
   ],
   "source": [
    "show_books()"
   ]
  },
  {
   "cell_type": "code",
   "execution_count": 7,
   "id": "ff65caee-c332-4e43-abf4-33caf9e4fdde",
   "metadata": {},
   "outputs": [
    {
     "name": "stdout",
     "output_type": "stream",
     "text": [
      "Book issued: Rich Dad Poor Dad\n",
      "Book issued: Deep Work\n"
     ]
    }
   ],
   "source": [
    "issue_book(1)\n",
    "issue_book(3)"
   ]
  },
  {
   "cell_type": "code",
   "execution_count": 8,
   "id": "c5d56cd1-4b2e-40c2-addb-a00207bb8885",
   "metadata": {},
   "outputs": [
    {
     "name": "stdout",
     "output_type": "stream",
     "text": [
      "Book returned: Deep Work\n"
     ]
    }
   ],
   "source": [
    "return_book(3)"
   ]
  },
  {
   "cell_type": "code",
   "execution_count": null,
   "id": "c1b7667c-f15b-4346-a85c-b43e16367b99",
   "metadata": {},
   "outputs": [],
   "source": []
  }
 ],
 "metadata": {
  "kernelspec": {
   "display_name": "Python [conda env:base] *",
   "language": "python",
   "name": "conda-base-py"
  },
  "language_info": {
   "codemirror_mode": {
    "name": "ipython",
    "version": 3
   },
   "file_extension": ".py",
   "mimetype": "text/x-python",
   "name": "python",
   "nbconvert_exporter": "python",
   "pygments_lexer": "ipython3",
   "version": "3.13.5"
  }
 },
 "nbformat": 4,
 "nbformat_minor": 5
}
