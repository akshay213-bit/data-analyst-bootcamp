{
 "cells": [
  {
   "cell_type": "code",
   "execution_count": null,
   "id": "99d5945f-c0b6-4255-b362-cabb1a79176e",
   "metadata": {},
   "outputs": [],
   "source": [
    "#atm major project"
   ]
  },
  {
   "cell_type": "code",
   "execution_count": 1,
   "id": "2c5c5a68-bad7-43b5-8e8e-9432668cd39d",
   "metadata": {},
   "outputs": [],
   "source": [
    "import sqlite3\n",
    "\n",
    "# Database connection\n",
    "conn = sqlite3.connect(\"atm.db\")\n",
    "cur = conn.cursor()\n",
    "\n",
    "# Table create (run once)\n",
    "cur.execute('''\n",
    "CREATE TABLE IF NOT EXISTS accounts (\n",
    "    acc_no INTEGER PRIMARY KEY AUTOINCREMENT,\n",
    "    name TEXT,\n",
    "    pin TEXT,\n",
    "    balance REAL\n",
    ")\n",
    "''')\n",
    "conn.commit()\n"
   ]
  },
  {
   "cell_type": "code",
   "execution_count": 2,
   "id": "1f00dfeb-d8b8-40b6-9966-c98fd784dd5d",
   "metadata": {},
   "outputs": [
    {
     "name": "stdout",
     "output_type": "stream",
     "text": [
      " Account created successfully!\n"
     ]
    }
   ],
   "source": [
    "def create_account(name, pin, balance, acc_no):\n",
    "    cur.execute(\"INSERT INTO accounts (name, pin, balance, acc_no) VALUES (?, ?, ?, ?)\", (name, pin, balance, acc_no))\n",
    "    conn.commit()\n",
    "    print(\" Account created successfully!\")\n",
    "\n",
    "# Example\n",
    "create_account(\"Akshay\", \"1234\", 5000, \"0130\")\n"
   ]
  },
  {
   "cell_type": "code",
   "execution_count": 3,
   "id": "a034e092-d1e5-4a9a-978d-815096598b1a",
   "metadata": {},
   "outputs": [],
   "source": [
    "def login(acc_no, pin):\n",
    "    cur.execute(\"SELECT * FROM accounts WHERE acc_no=? AND pin=?\", (acc_no, pin))\n",
    "    user = cur.fetchone()\n",
    "    if user:\n",
    "        print(f\" Welcome {user[1]}!\")\n",
    "        return user\n",
    "    else:\n",
    "        print(\" Invalid account number or PIN.\")\n",
    "        return None"
   ]
  },
  {
   "cell_type": "code",
   "execution_count": 4,
   "id": "78814a71-8518-472c-9aaf-57427032753f",
   "metadata": {},
   "outputs": [],
   "source": [
    "def check_balance(acc_no):\n",
    "    cur.execute(\"SELECT balance FROM accounts WHERE acc_no=?\", (acc_no,))\n",
    "    balance = cur.fetchone()[0]\n",
    "    print(f\"Current Balance: ₹{balance}\")"
   ]
  },
  {
   "cell_type": "code",
   "execution_count": 5,
   "id": "e42fd558-400c-4ff1-a774-7610b9fa0cf9",
   "metadata": {},
   "outputs": [],
   "source": [
    "def deposit(acc_no, amount):\n",
    "    cur.execute(\"UPDATE accounts SET balance = balance + ? WHERE acc_no=?\", (amount, acc_no))\n",
    "    conn.commit()\n",
    "    print(f\" ₹{amount} deposited successfully.\")"
   ]
  },
  {
   "cell_type": "code",
   "execution_count": 6,
   "id": "bf4ce9fc-de95-4f46-b1b3-d133fac35988",
   "metadata": {},
   "outputs": [],
   "source": [
    "def withdraw(acc_no, amount):\n",
    "    cur.execute(\"SELECT balance FROM accounts WHERE acc_no=?\", (acc_no,))\n",
    "    current_balance = cur.fetchone()[0]\n",
    "\n",
    "    if amount > current_balance:\n",
    "        print(\" Insufficient balance!\")\n",
    "    else:\n",
    "        cur.execute(\"UPDATE accounts SET balance = balance - ? WHERE acc_no=?\", (amount, acc_no))\n",
    "        conn.commit()\n",
    "        print(f\" ₹{amount} withdrawn successfully.\")"
   ]
  },
  {
   "cell_type": "code",
   "execution_count": 7,
   "id": "73c0e69c-7508-40b3-9e60-ac5e380922b7",
   "metadata": {},
   "outputs": [],
   "source": [
    "def atm_menu():\n",
    "    print(\"===== Welcome to Python ATM =====\")\n",
    "    acc_no = int(input(\"Enter Account Number: \"))\n",
    "    pin = input(\"Enter PIN: \")\n",
    "\n",
    "    user = login(acc_no, pin)\n",
    "    if not user:\n",
    "        return\n",
    "\n",
    "    while True:\n",
    "        print(\"\\n--- Menu ---\")\n",
    "        print(\"1. Check Balance\")\n",
    "        print(\"2. Deposit\")\n",
    "        print(\"3. Withdraw\")\n",
    "        print(\"4. Exit\")\n",
    "        choice = input(\"Enter your choice: \")\n",
    "\n",
    "        if choice == '1':\n",
    "            check_balance(acc_no)\n",
    "        elif choice == '2':\n",
    "            amt = float(input(\"Enter amount to deposit: ₹\"))\n",
    "            deposit(acc_no, amt)\n",
    "        elif choice == '3':\n",
    "            amt = float(input(\"Enter amount to withdraw: ₹\"))\n",
    "            withdraw(acc_no, amt)\n",
    "        elif choice == '4':\n",
    "            print(\" Thank you for using the ATM. Bye!\")\n",
    "            break\n",
    "        else:\n",
    "            print(\"Invalid choice.\")\n"
   ]
  },
  {
   "cell_type": "code",
   "execution_count": 8,
   "id": "8b444d29-57e7-48b1-a2bb-079a9cc21412",
   "metadata": {},
   "outputs": [
    {
     "name": "stdout",
     "output_type": "stream",
     "text": [
      "===== Welcome to Python ATM =====\n"
     ]
    },
    {
     "name": "stdin",
     "output_type": "stream",
     "text": [
      "Enter Account Number:  0130\n",
      "Enter PIN:  1234\n"
     ]
    },
    {
     "name": "stdout",
     "output_type": "stream",
     "text": [
      " Welcome Akshay!\n",
      "\n",
      "--- Menu ---\n",
      "1. Check Balance\n",
      "2. Deposit\n",
      "3. Withdraw\n",
      "4. Exit\n"
     ]
    },
    {
     "name": "stdin",
     "output_type": "stream",
     "text": [
      "Enter your choice:  1\n"
     ]
    },
    {
     "name": "stdout",
     "output_type": "stream",
     "text": [
      "Current Balance: ₹5000.0\n",
      "\n",
      "--- Menu ---\n",
      "1. Check Balance\n",
      "2. Deposit\n",
      "3. Withdraw\n",
      "4. Exit\n"
     ]
    },
    {
     "name": "stdin",
     "output_type": "stream",
     "text": [
      "Enter your choice:  2\n",
      "Enter amount to deposit: ₹ 1000\n"
     ]
    },
    {
     "name": "stdout",
     "output_type": "stream",
     "text": [
      " ₹1000.0 deposited successfully.\n",
      "\n",
      "--- Menu ---\n",
      "1. Check Balance\n",
      "2. Deposit\n",
      "3. Withdraw\n",
      "4. Exit\n"
     ]
    },
    {
     "name": "stdin",
     "output_type": "stream",
     "text": [
      "Enter your choice:  1\n"
     ]
    },
    {
     "name": "stdout",
     "output_type": "stream",
     "text": [
      "Current Balance: ₹6000.0\n",
      "\n",
      "--- Menu ---\n",
      "1. Check Balance\n",
      "2. Deposit\n",
      "3. Withdraw\n",
      "4. Exit\n"
     ]
    },
    {
     "name": "stdin",
     "output_type": "stream",
     "text": [
      "Enter your choice:  3\n",
      "Enter amount to withdraw: ₹ 2000\n"
     ]
    },
    {
     "name": "stdout",
     "output_type": "stream",
     "text": [
      " ₹2000.0 withdrawn successfully.\n",
      "\n",
      "--- Menu ---\n",
      "1. Check Balance\n",
      "2. Deposit\n",
      "3. Withdraw\n",
      "4. Exit\n"
     ]
    },
    {
     "name": "stdin",
     "output_type": "stream",
     "text": [
      "Enter your choice:  1\n"
     ]
    },
    {
     "name": "stdout",
     "output_type": "stream",
     "text": [
      "Current Balance: ₹4000.0\n",
      "\n",
      "--- Menu ---\n",
      "1. Check Balance\n",
      "2. Deposit\n",
      "3. Withdraw\n",
      "4. Exit\n"
     ]
    },
    {
     "name": "stdin",
     "output_type": "stream",
     "text": [
      "Enter your choice:  4\n"
     ]
    },
    {
     "name": "stdout",
     "output_type": "stream",
     "text": [
      " Thank you for using the ATM. Bye!\n"
     ]
    }
   ],
   "source": [
    "atm_menu()"
   ]
  },
  {
   "cell_type": "code",
   "execution_count": null,
   "id": "cb7d2606-612f-4929-86bd-20863a85f7fc",
   "metadata": {},
   "outputs": [],
   "source": []
  }
 ],
 "metadata": {
  "kernelspec": {
   "display_name": "Python [conda env:base] *",
   "language": "python",
   "name": "conda-base-py"
  },
  "language_info": {
   "codemirror_mode": {
    "name": "ipython",
    "version": 3
   },
   "file_extension": ".py",
   "mimetype": "text/x-python",
   "name": "python",
   "nbconvert_exporter": "python",
   "pygments_lexer": "ipython3",
   "version": "3.13.5"
  }
 },
 "nbformat": 4,
 "nbformat_minor": 5
}
