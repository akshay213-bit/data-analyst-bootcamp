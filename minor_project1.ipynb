{
 "cells": [
  {
   "cell_type": "code",
   "execution_count": 25,
   "id": "198b1f14-fd21-4a9b-9b87-2ea005f13bfc",
   "metadata": {},
   "outputs": [
    {
     "name": "stdin",
     "output_type": "stream",
     "text": [
      "enter a number:  5\n"
     ]
    },
    {
     "name": "stdout",
     "output_type": "stream",
     "text": [
      "5 * 1 = 5\n",
      "5 * 2 = 10\n",
      "5 * 3 = 15\n",
      "5 * 4 = 20\n",
      "5 * 5 = 25\n",
      "5 * 6 = 30\n",
      "5 * 7 = 35\n",
      "5 * 8 = 40\n",
      "5 * 9 = 45\n",
      "5 * 10 = 50\n"
     ]
    }
   ],
   "source": [
    "num= int(input(\"enter a number: \"))\n",
    "i=1\n",
    "while i<=10:\n",
    "    print(f\"{num} * {i} = {num*i}\")\n",
    "    i+=1"
   ]
  },
  {
   "cell_type": "code",
   "execution_count": null,
   "id": "e0bf6044-b600-4f61-908f-9bdc4b67a89b",
   "metadata": {},
   "outputs": [],
   "source": []
  },
  {
   "cell_type": "code",
   "execution_count": 23,
   "id": "6c1dcc5b-6fbb-4a93-88a4-90b275e12c43",
   "metadata": {},
   "outputs": [
    {
     "name": "stdin",
     "output_type": "stream",
     "text": [
      "type 'q' to quit:  t\n"
     ]
    },
    {
     "name": "stdout",
     "output_type": "stream",
     "text": [
      "you typed: t\n"
     ]
    },
    {
     "name": "stdin",
     "output_type": "stream",
     "text": [
      "type 'q' to quit:  r\n"
     ]
    },
    {
     "name": "stdout",
     "output_type": "stream",
     "text": [
      "you typed: r\n"
     ]
    },
    {
     "name": "stdin",
     "output_type": "stream",
     "text": [
      "type 'q' to quit:  q\n"
     ]
    },
    {
     "name": "stdout",
     "output_type": "stream",
     "text": [
      "exited loop!\n"
     ]
    }
   ],
   "source": [
    "while True:\n",
    "  x = input(\"type 'q' to quit: \")\n",
    "  if x =='q':\n",
    "    print(\"exited loop!\")\n",
    "    break\n",
    "  else:\n",
    "    print(\"you typed:\", x)\n"
   ]
  },
  {
   "cell_type": "code",
   "execution_count": null,
   "id": "7735fe11-b001-4445-a425-3a5733cfccf9",
   "metadata": {},
   "outputs": [],
   "source": []
  },
  {
   "cell_type": "code",
   "execution_count": 27,
   "id": "145f3227-c70a-49ea-831a-a6cef8e7b42e",
   "metadata": {},
   "outputs": [
    {
     "name": "stdin",
     "output_type": "stream",
     "text": [
      "enter password:  abhi2468\n"
     ]
    },
    {
     "name": "stdout",
     "output_type": "stream",
     "text": [
      "wrong password! 2 attempts left \n"
     ]
    },
    {
     "name": "stdin",
     "output_type": "stream",
     "text": [
      "enter password:  dskif\n"
     ]
    },
    {
     "name": "stdout",
     "output_type": "stream",
     "text": [
      "wrong password! 1 attempts left \n"
     ]
    },
    {
     "name": "stdin",
     "output_type": "stream",
     "text": [
      "enter password:  dkjslnl\n"
     ]
    },
    {
     "name": "stdout",
     "output_type": "stream",
     "text": [
      "wrong password! 0 attempts left \n"
     ]
    }
   ],
   "source": [
    "password = \"open123\"\n",
    "attempts = 3\n",
    "\n",
    "while attempts>0:\n",
    "    x = input(\"enter password: \")\n",
    "    if x == password:\n",
    "        print(\"accesss granted \")\n",
    "        break\n",
    "    else:\n",
    "        attempts -=1\n",
    "        print(f\"wrong password! {attempts} attempts left \")"
   ]
  },
  {
   "cell_type": "code",
   "execution_count": null,
   "id": "ccd7ab7f-9e56-42eb-acbd-c58c670e0804",
   "metadata": {},
   "outputs": [],
   "source": []
  },
  {
   "cell_type": "code",
   "execution_count": null,
   "id": "abedd558-9f79-42ce-8a4d-079ebae872eb",
   "metadata": {},
   "outputs": [],
   "source": [
    "i=0\n",
    "while i<=100:\n",
    "    if i%7==0:\n",
    "        print(i)\n",
    "        i+=1"
   ]
  },
  {
   "cell_type": "code",
   "execution_count": null,
   "id": "57b35b78-058d-422a-a41b-b8561abfdf11",
   "metadata": {},
   "outputs": [],
   "source": []
  },
  {
   "cell_type": "code",
   "execution_count": 1,
   "id": "0c7b04af-4fd4-4f7b-b730-a30eb1579613",
   "metadata": {},
   "outputs": [
    {
     "name": "stdin",
     "output_type": "stream",
     "text": [
      "enter a number:  5\n"
     ]
    },
    {
     "name": "stdout",
     "output_type": "stream",
     "text": [
      "5 * 1 = 5\n",
      "5 * 2 = 10\n",
      "5 * 3 = 15\n",
      "5 * 4 = 20\n",
      "5 * 5 = 25\n",
      "5 * 6 = 30\n",
      "5 * 7 = 35\n",
      "5 * 8 = 40\n",
      "5 * 9 = 45\n",
      "5 * 10 = 50\n"
     ]
    }
   ],
   "source": [
    "num=int(input(\"enter a number: \"))\n",
    "for i in range (1,11):\n",
    "    print(f\"{num} * {i} = {num*i}\")"
   ]
  },
  {
   "cell_type": "code",
   "execution_count": null,
   "id": "53078b25-2195-4f25-bee3-5bb2d1a32ac4",
   "metadata": {},
   "outputs": [],
   "source": []
  },
  {
   "cell_type": "code",
   "execution_count": null,
   "id": "e4409842-2b8d-4fbe-bbc0-290e23b9573d",
   "metadata": {},
   "outputs": [],
   "source": [
    "for i in range(1, 6):\n",
    "    if i==3:\n",
    "        continue\n",
    "        print(i)"
   ]
  },
  {
   "cell_type": "code",
   "execution_count": null,
   "id": "711dd44e-5d1a-4fbd-afc6-785529013a4d",
   "metadata": {},
   "outputs": [],
   "source": []
  },
  {
   "cell_type": "code",
   "execution_count": null,
   "id": "971ccce9-18a9-4d29-b7cc-e4d681878589",
   "metadata": {},
   "outputs": [],
   "source": [
    "for i in range(1, 10):\n",
    "    if i==5:\n",
    "        continue\n",
    "    print(i)"
   ]
  },
  {
   "cell_type": "code",
   "execution_count": null,
   "id": "e15c3538-4368-471e-9fcc-c9f4ce88b64d",
   "metadata": {},
   "outputs": [],
   "source": []
  },
  {
   "cell_type": "code",
   "execution_count": null,
   "id": "fb790a35-31a2-4493-a0c1-b16948a4b054",
   "metadata": {},
   "outputs": [],
   "source": [
    "for i in \"python\":\n",
    "    if i==\"y\":\n",
    "        continue\n",
    "    if i==\"n\":\n",
    "        break\n",
    "    print(i)"
   ]
  },
  {
   "cell_type": "code",
   "execution_count": null,
   "id": "01b895f9-b86f-4ac8-966d-c58abb625678",
   "metadata": {},
   "outputs": [],
   "source": []
  },
  {
   "cell_type": "code",
   "execution_count": null,
   "id": "d08300f5-e998-4b08-b8f2-a5079ebcb56e",
   "metadata": {},
   "outputs": [],
   "source": [
    "def add(a,b)\n",
    "c=a+b\n",
    "print(c)\n",
    "\n",
    "add(4,4)"
   ]
  },
  {
   "cell_type": "code",
   "execution_count": null,
   "id": "5c4160ab-4825-4601-8215-b8c1bbdb3ed7",
   "metadata": {},
   "outputs": [],
   "source": []
  },
  {
   "cell_type": "code",
   "execution_count": null,
   "id": "3a4f5790-ede4-43de-8300-e093a64631ee",
   "metadata": {},
   "outputs": [],
   "source": [
    "def reverse():\n",
    "    for i in range a:\n",
    "        i-=1\n",
    "        reverse(akshay)"
   ]
  },
  {
   "cell_type": "code",
   "execution_count": null,
   "id": "4bdb570a-016f-4d70-9c95-3defa8e7da2b",
   "metadata": {},
   "outputs": [],
   "source": []
  }
 ],
 "metadata": {
  "kernelspec": {
   "display_name": "anaconda-2024.02-py310",
   "language": "python",
   "name": "conda-env-anaconda-2024.02-py310-py"
  },
  "language_info": {
   "codemirror_mode": {
    "name": "ipython",
    "version": 3
   },
   "file_extension": ".py",
   "mimetype": "text/x-python",
   "name": "python",
   "nbconvert_exporter": "python",
   "pygments_lexer": "ipython3",
   "version": "3.10.14"
  }
 },
 "nbformat": 4,
 "nbformat_minor": 5
}
